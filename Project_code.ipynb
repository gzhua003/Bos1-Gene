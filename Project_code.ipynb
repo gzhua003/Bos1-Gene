{
 "cells": [
  {
   "cell_type": "code",
   "execution_count": null,
   "id": "47ea3ef2-9b23-49c8-a14d-081ce06c29ed",
   "metadata": {},
   "outputs": [],
   "source": [
    "import itertools\n",
    "import sys\n",
    "import re"
   ]
  },
  {
   "cell_type": "code",
   "execution_count": null,
   "id": "4f1f2b29-f276-486c-b78f-df76c2672215",
   "metadata": {},
   "outputs": [],
   "source": [
    "def isheader(line):\n",
    "    return line[0] == '>'\n"
   ]
  },
  {
   "cell_type": "code",
   "execution_count": null,
   "id": "1cd5c1df-2426-468f-8331-cbd9756ff111",
   "metadata": {},
   "outputs": [],
   "source": [
    "def aspairs(f):\n",
    "    seq_id = ''\n",
    "    sequence = ''\n",
    "    for header,group in itertools.groupby(f, isheader):\n",
    "        if header:\n",
    "            line = next(group)\n",
    "            seq_id = line[1:].split()[0]\n",
    "        else:\n",
    "            sequence = ''.join(line.strip() for line in group)\n",
    "            yield seq_id, sequence\n",
    "\n",
    "if len(sys.argv) <= 1:\n",
    "    print(\"expecting on cmdline argument: fasta_parser.py FILE.fasta\")\n",
    "    exit()\n"
   ]
  },
  {
   "cell_type": "code",
   "execution_count": null,
   "id": "7dcde3ed-5bfa-40fd-b05b-c06d44ea1113",
   "metadata": {
    "scrolled": true
   },
   "outputs": [],
   "source": [
    "#BF1.fas = sys.argv[1]\n",
    "filename=\"BF1.fas\"\n",
    "with open(filename,\"r\") as f:\n",
    "    pairs = aspairs(f)\n",
    "    seqs  = dict(pairs)\n",
    "#print(seqs)\n",
    "# assume that these are aligned so all the same length\n",
    "# so use the length of 1st one to determine len\n",
    "first = \"\"\n",
    "for name in seqs:\n",
    "    first = name\n",
    "    break\n",
    "total_length = len(seqs[first])\n",
    "print ('total len is ',total_length)\n",
    "for name in seqs:\n",
    "    print(name, 'is',len(seqs[name]),'long')\n",
    "#    print(seqs[name])\n",
    "    "
   ]
  },
  {
   "cell_type": "code",
   "execution_count": null,
   "id": "ea0597d5-ad93-4fac-9b4a-5646f407d8ac",
   "metadata": {},
   "outputs": [],
   "source": [
    "for i in range(total_length):\n",
    "    col = set()\n",
    "    column_text = \"\"\n",
    "    for name in seqs:\n",
    "        base = seqs[name][i]\n",
    "        if base == \"N\" or base == \"-\":\n",
    "            continue # skip the 'N' bases or '-'\n",
    "        # could change this to calculate frequence\n",
    "        # by using a dictionary instead of a set here\n",
    "        col.add(base)\n",
    "        column_text += base\n",
    "    print(f'colummn # {i} is {col}')\n",
    "    print(column_text)"
   ]
  },
  {
   "cell_type": "code",
   "execution_count": 38,
   "id": "9f9bb86a-8a06-44f2-9a38-bd5513f32621",
   "metadata": {},
   "outputs": [
    {
     "name": "stdout",
     "output_type": "stream",
     "text": [
      "\n",
      "Starting to translate:\n"
     ]
    },
    {
     "ename": "NameError",
     "evalue": "name 'tranlate_nnn' is not defined",
     "output_type": "error",
     "traceback": [
      "\u001b[0;31m---------------------------------------------------------------------------\u001b[0m",
      "\u001b[0;31mNameError\u001b[0m                                 Traceback (most recent call last)",
      "Cell \u001b[0;32mIn[38], line 35\u001b[0m\n\u001b[1;32m     31\u001b[0m     \u001b[38;5;28;01mreturn\u001b[39;00m \u001b[38;5;124m\"\u001b[39m\u001b[38;5;124m\"\u001b[39m\u001b[38;5;241m.\u001b[39mjoin(nnn_aa_seq)\n\u001b[1;32m     34\u001b[0m translate_nnn \u001b[38;5;241m=\u001b[39m translate(seqs) \n\u001b[0;32m---> 35\u001b[0m \u001b[38;5;28mprint\u001b[39m(\u001b[43mtranlate_nnn\u001b[49m)\n",
      "\u001b[0;31mNameError\u001b[0m: name 'tranlate_nnn' is not defined"
     ]
    }
   ],
   "source": [
    "def translate(seqs):\n",
    "    nnn_table = {'TTT': 'F', 'TCT': 'S', 'TAT': 'Y', 'TGT': 'C', 'TTC': 'F', 'TCC': 'S', 'TAC': 'Y', 'TGC': 'C',\n",
    "                 'TTA': 'L',\n",
    "                 'TCA': 'S', 'TAA': '*', 'TGA': '*', 'TTG': 'L', 'TCG': 'S', 'TAG': '*', 'TGG': 'W', 'CTT': 'L',\n",
    "                 'CCT': 'P',\n",
    "                 'CAT': 'H', 'CGT': 'R', 'CTC': 'L', 'CCC': 'P', 'CAC': 'H', 'CGC': 'R', 'CTA': 'L', 'CCA': 'P',\n",
    "                 'CAA': 'Q',\n",
    "                 'CGA': 'R', 'CTG': 'L', 'CCG': 'P', 'CAG': 'Q', 'CGG': 'R', 'ATT': 'I', 'ACT': 'T', 'AAT': 'N',\n",
    "                 'AGT': 'S',\n",
    "                 'ATC': 'I', 'ACC': 'T', 'AAC': 'N', 'AGC': 'S', 'ATA': 'I', 'ACA': 'T', 'AAA': 'K', 'AGA': 'R',\n",
    "                 'ATG': 'M',\n",
    "                 'ACG': 'T', 'AAG': 'K', 'AGG': 'R', 'GTT': 'V', 'GCT': 'A', 'GAT': 'D', 'GGT': 'G', 'GTC': 'V',\n",
    "                 'GCC': 'A',\n",
    "                 'GAC': 'D', 'GGC': 'G', 'GTA': 'V', 'GCA': 'A', 'GAA': 'E', 'GGA': 'G', 'GTG': 'V', 'GCG': 'A',\n",
    "                 'GAG': 'E',\n",
    "                 'GGG': 'G'}\n",
    "    # two loops, outer one to loop over the list of string sequences\n",
    "    # inner one loops over each sequence\n",
    "    nnn_aa_seq = []\n",
    "    # generate amino acid sequence\n",
    "    # add option for sequence or codon not divisible by three\n",
    "    print(\"\\nStarting to translate:\")\n",
    "    for dna in seqs:\n",
    "        protein_seq = \"\"\n",
    "        for i in range(0, len(dna), 3):\n",
    "            if len(dna) % 3 == 0:\n",
    "                nnn_codon = nnn_table[dna[i:i + 3]]\n",
    "                protein_seq += nnn_codon\n",
    "            nnn_aa_seq.append(protein_seq)\n",
    "\n",
    "    return \"\".join(nnn_aa_seq)\n",
    "\n",
    "\n",
    "translate_nnn = translate(seqs) \n",
    "print(tranlate_nnn)"
   ]
  }
 ],
 "metadata": {
  "kernelspec": {
   "display_name": "Python 3 (ipykernel)",
   "language": "python",
   "name": "python3"
  },
  "language_info": {
   "codemirror_mode": {
    "name": "ipython",
    "version": 3
   },
   "file_extension": ".py",
   "mimetype": "text/x-python",
   "name": "python",
   "nbconvert_exporter": "python",
   "pygments_lexer": "ipython3",
   "version": "3.11.6"
  }
 },
 "nbformat": 4,
 "nbformat_minor": 5
}
